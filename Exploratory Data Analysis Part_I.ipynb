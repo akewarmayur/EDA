{
 "cells": [
  {
   "cell_type": "code",
   "execution_count": 1,
   "metadata": {},
   "outputs": [
    {
     "name": "stderr",
     "output_type": "stream",
     "text": [
      "\n",
      "Attaching package: ‘dplyr’\n",
      "\n",
      "The following objects are masked from ‘package:stats’:\n",
      "\n",
      "    filter, lag\n",
      "\n",
      "The following objects are masked from ‘package:base’:\n",
      "\n",
      "    intersect, setdiff, setequal, union\n",
      "\n"
     ]
    }
   ],
   "source": [
    "library(dplyr)"
   ]
  },
  {
   "cell_type": "code",
   "execution_count": 6,
   "metadata": {},
   "outputs": [
    {
     "data": {
      "text/html": [
       "<table>\n",
       "<thead><tr><th scope=col>SN</th><th scope=col>Age</th><th scope=col>Name</th></tr></thead>\n",
       "<tbody>\n",
       "\t<tr><td>1   </td><td>21  </td><td>John</td></tr>\n",
       "\t<tr><td>2   </td><td>15  </td><td>Dora</td></tr>\n",
       "</tbody>\n",
       "</table>\n"
      ],
      "text/latex": [
       "\\begin{tabular}{r|lll}\n",
       " SN & Age & Name\\\\\n",
       "\\hline\n",
       "\t 1    & 21   & John\\\\\n",
       "\t 2    & 15   & Dora\\\\\n",
       "\\end{tabular}\n"
      ],
      "text/markdown": [
       "\n",
       "SN | Age | Name | \n",
       "|---|---|\n",
       "| 1    | 21   | John | \n",
       "| 2    | 15   | Dora | \n",
       "\n",
       "\n"
      ],
      "text/plain": [
       "  SN Age Name\n",
       "1 1  21  John\n",
       "2 2  15  Dora"
      ]
     },
     "metadata": {},
     "output_type": "display_data"
    }
   ],
   "source": [
    "x <- data.frame(\"SN\" = 1:2, \"Age\" = c(21,15), \"Name\" = c(\"John\", \"Dora\"), stringsAsFactors = FALSE)\n",
    "x"
   ]
  },
  {
   "cell_type": "code",
   "execution_count": 9,
   "metadata": {},
   "outputs": [
    {
     "data": {
      "text/html": [
       "<table>\n",
       "<thead><tr><th scope=col>Name</th></tr></thead>\n",
       "<tbody>\n",
       "\t<tr><td>John</td></tr>\n",
       "</tbody>\n",
       "</table>\n"
      ],
      "text/latex": [
       "\\begin{tabular}{r|l}\n",
       " Name\\\\\n",
       "\\hline\n",
       "\t John\\\\\n",
       "\\end{tabular}\n"
      ],
      "text/markdown": [
       "\n",
       "Name | \n",
       "|---|\n",
       "| John | \n",
       "\n",
       "\n"
      ],
      "text/plain": [
       "  Name\n",
       "1 John"
      ]
     },
     "metadata": {},
     "output_type": "display_data"
    }
   ],
   "source": [
    "subset(x, subset = x$Age==21, select = Name)"
   ]
  },
  {
   "cell_type": "code",
   "execution_count": 11,
   "metadata": {},
   "outputs": [
    {
     "data": {
      "text/html": [
       "<table>\n",
       "<thead><tr><th scope=col>Age</th></tr></thead>\n",
       "<tbody>\n",
       "\t<tr><td>21</td></tr>\n",
       "\t<tr><td>15</td></tr>\n",
       "</tbody>\n",
       "</table>\n"
      ],
      "text/latex": [
       "\\begin{tabular}{r|l}\n",
       " Age\\\\\n",
       "\\hline\n",
       "\t 21\\\\\n",
       "\t 15\\\\\n",
       "\\end{tabular}\n"
      ],
      "text/markdown": [
       "\n",
       "Age | \n",
       "|---|---|\n",
       "| 21 | \n",
       "| 15 | \n",
       "\n",
       "\n"
      ],
      "text/plain": [
       "  Age\n",
       "1 21 \n",
       "2 15 "
      ]
     },
     "metadata": {},
     "output_type": "display_data"
    }
   ],
   "source": [
    "x['Age']"
   ]
  },
  {
   "cell_type": "code",
   "execution_count": 13,
   "metadata": {},
   "outputs": [
    {
     "data": {
      "text/html": [
       "<ol class=list-inline>\n",
       "\t<li>1</li>\n",
       "\t<li>2</li>\n",
       "</ol>\n"
      ],
      "text/latex": [
       "\\begin{enumerate*}\n",
       "\\item 1\n",
       "\\item 2\n",
       "\\end{enumerate*}\n"
      ],
      "text/markdown": [
       "1. 1\n",
       "2. 2\n",
       "\n",
       "\n"
      ],
      "text/plain": [
       "[1] 1 2"
      ]
     },
     "metadata": {},
     "output_type": "display_data"
    }
   ],
   "source": [
    "x$SN"
   ]
  },
  {
   "cell_type": "code",
   "execution_count": 15,
   "metadata": {},
   "outputs": [],
   "source": [
    "chicago <- readRDS(\"chicago.rds\")"
   ]
  },
  {
   "cell_type": "code",
   "execution_count": 16,
   "metadata": {},
   "outputs": [
    {
     "data": {
      "text/html": [
       "<table>\n",
       "<thead><tr><th scope=col>city</th><th scope=col>tmpd</th><th scope=col>dptp</th><th scope=col>date</th><th scope=col>pm25tmean2</th><th scope=col>pm10tmean2</th><th scope=col>o3tmean2</th><th scope=col>no2tmean2</th></tr></thead>\n",
       "<tbody>\n",
       "\t<tr><td>chic      </td><td>31.5      </td><td>31.500    </td><td>1987-01-01</td><td>NA        </td><td>34.00000  </td><td>4.250000  </td><td>19.98810  </td></tr>\n",
       "\t<tr><td>chic      </td><td>33.0      </td><td>29.875    </td><td>1987-01-02</td><td>NA        </td><td>      NA  </td><td>3.304348  </td><td>23.19099  </td></tr>\n",
       "\t<tr><td>chic      </td><td>33.0      </td><td>27.375    </td><td>1987-01-03</td><td>NA        </td><td>34.16667  </td><td>3.333333  </td><td>23.81548  </td></tr>\n",
       "\t<tr><td>chic      </td><td>29.0      </td><td>28.625    </td><td>1987-01-04</td><td>NA        </td><td>47.00000  </td><td>4.375000  </td><td>30.43452  </td></tr>\n",
       "\t<tr><td>chic      </td><td>32.0      </td><td>28.875    </td><td>1987-01-05</td><td>NA        </td><td>      NA  </td><td>4.750000  </td><td>30.33333  </td></tr>\n",
       "\t<tr><td>chic      </td><td>40.0      </td><td>35.125    </td><td>1987-01-06</td><td>NA        </td><td>48.00000  </td><td>5.833333  </td><td>25.77233  </td></tr>\n",
       "</tbody>\n",
       "</table>\n"
      ],
      "text/latex": [
       "\\begin{tabular}{r|llllllll}\n",
       " city & tmpd & dptp & date & pm25tmean2 & pm10tmean2 & o3tmean2 & no2tmean2\\\\\n",
       "\\hline\n",
       "\t chic       & 31.5       & 31.500     & 1987-01-01 & NA         & 34.00000   & 4.250000   & 19.98810  \\\\\n",
       "\t chic       & 33.0       & 29.875     & 1987-01-02 & NA         &       NA   & 3.304348   & 23.19099  \\\\\n",
       "\t chic       & 33.0       & 27.375     & 1987-01-03 & NA         & 34.16667   & 3.333333   & 23.81548  \\\\\n",
       "\t chic       & 29.0       & 28.625     & 1987-01-04 & NA         & 47.00000   & 4.375000   & 30.43452  \\\\\n",
       "\t chic       & 32.0       & 28.875     & 1987-01-05 & NA         &       NA   & 4.750000   & 30.33333  \\\\\n",
       "\t chic       & 40.0       & 35.125     & 1987-01-06 & NA         & 48.00000   & 5.833333   & 25.77233  \\\\\n",
       "\\end{tabular}\n"
      ],
      "text/markdown": [
       "\n",
       "city | tmpd | dptp | date | pm25tmean2 | pm10tmean2 | o3tmean2 | no2tmean2 | \n",
       "|---|---|---|---|---|---|\n",
       "| chic       | 31.5       | 31.500     | 1987-01-01 | NA         | 34.00000   | 4.250000   | 19.98810   | \n",
       "| chic       | 33.0       | 29.875     | 1987-01-02 | NA         |       NA   | 3.304348   | 23.19099   | \n",
       "| chic       | 33.0       | 27.375     | 1987-01-03 | NA         | 34.16667   | 3.333333   | 23.81548   | \n",
       "| chic       | 29.0       | 28.625     | 1987-01-04 | NA         | 47.00000   | 4.375000   | 30.43452   | \n",
       "| chic       | 32.0       | 28.875     | 1987-01-05 | NA         |       NA   | 4.750000   | 30.33333   | \n",
       "| chic       | 40.0       | 35.125     | 1987-01-06 | NA         | 48.00000   | 5.833333   | 25.77233   | \n",
       "\n",
       "\n"
      ],
      "text/plain": [
       "  city tmpd dptp   date       pm25tmean2 pm10tmean2 o3tmean2 no2tmean2\n",
       "1 chic 31.5 31.500 1987-01-01 NA         34.00000   4.250000 19.98810 \n",
       "2 chic 33.0 29.875 1987-01-02 NA               NA   3.304348 23.19099 \n",
       "3 chic 33.0 27.375 1987-01-03 NA         34.16667   3.333333 23.81548 \n",
       "4 chic 29.0 28.625 1987-01-04 NA         47.00000   4.375000 30.43452 \n",
       "5 chic 32.0 28.875 1987-01-05 NA               NA   4.750000 30.33333 \n",
       "6 chic 40.0 35.125 1987-01-06 NA         48.00000   5.833333 25.77233 "
      ]
     },
     "metadata": {},
     "output_type": "display_data"
    }
   ],
   "source": [
    "head(chicago)"
   ]
  },
  {
   "cell_type": "code",
   "execution_count": 17,
   "metadata": {},
   "outputs": [
    {
     "data": {
      "text/html": [
       "<ol class=list-inline>\n",
       "\t<li>6940</li>\n",
       "\t<li>8</li>\n",
       "</ol>\n"
      ],
      "text/latex": [
       "\\begin{enumerate*}\n",
       "\\item 6940\n",
       "\\item 8\n",
       "\\end{enumerate*}\n"
      ],
      "text/markdown": [
       "1. 6940\n",
       "2. 8\n",
       "\n",
       "\n"
      ],
      "text/plain": [
       "[1] 6940    8"
      ]
     },
     "metadata": {},
     "output_type": "display_data"
    }
   ],
   "source": [
    "dim(chicago)"
   ]
  },
  {
   "cell_type": "code",
   "execution_count": 18,
   "metadata": {},
   "outputs": [
    {
     "name": "stdout",
     "output_type": "stream",
     "text": [
      "'data.frame':\t6940 obs. of  8 variables:\n",
      " $ city      : chr  \"chic\" \"chic\" \"chic\" \"chic\" ...\n",
      " $ tmpd      : num  31.5 33 33 29 32 40 34.5 29 26.5 32.5 ...\n",
      " $ dptp      : num  31.5 29.9 27.4 28.6 28.9 ...\n",
      " $ date      : Date, format: \"1987-01-01\" \"1987-01-02\" ...\n",
      " $ pm25tmean2: num  NA NA NA NA NA NA NA NA NA NA ...\n",
      " $ pm10tmean2: num  34 NA 34.2 47 NA ...\n",
      " $ o3tmean2  : num  4.25 3.3 3.33 4.38 4.75 ...\n",
      " $ no2tmean2 : num  20 23.2 23.8 30.4 30.3 ...\n"
     ]
    }
   ],
   "source": [
    "str(chicago)"
   ]
  },
  {
   "cell_type": "code",
   "execution_count": 20,
   "metadata": {},
   "outputs": [
    {
     "data": {
      "text/html": [
       "<table>\n",
       "<thead><tr><th scope=col>city</th><th scope=col>tmpd</th><th scope=col>dptp</th></tr></thead>\n",
       "<tbody>\n",
       "\t<tr><td>chic  </td><td>31.5  </td><td>31.500</td></tr>\n",
       "\t<tr><td>chic  </td><td>33.0  </td><td>29.875</td></tr>\n",
       "</tbody>\n",
       "</table>\n"
      ],
      "text/latex": [
       "\\begin{tabular}{r|lll}\n",
       " city & tmpd & dptp\\\\\n",
       "\\hline\n",
       "\t chic   & 31.5   & 31.500\\\\\n",
       "\t chic   & 33.0   & 29.875\\\\\n",
       "\\end{tabular}\n"
      ],
      "text/markdown": [
       "\n",
       "city | tmpd | dptp | \n",
       "|---|---|\n",
       "| chic   | 31.5   | 31.500 | \n",
       "| chic   | 33.0   | 29.875 | \n",
       "\n",
       "\n"
      ],
      "text/plain": [
       "  city tmpd dptp  \n",
       "1 chic 31.5 31.500\n",
       "2 chic 33.0 29.875"
      ]
     },
     "metadata": {},
     "output_type": "display_data"
    }
   ],
   "source": [
    "subset <- select(chicago, city:dptp)\n",
    "head(subset,2)"
   ]
  },
  {
   "cell_type": "code",
   "execution_count": 21,
   "metadata": {},
   "outputs": [
    {
     "data": {
      "text/html": [
       "<table>\n",
       "<thead><tr><th scope=col>pm25tmean2</th><th scope=col>pm10tmean2</th><th scope=col>o3tmean2</th><th scope=col>no2tmean2</th></tr></thead>\n",
       "<tbody>\n",
       "\t<tr><td>NA     </td><td>34     </td><td>4.25   </td><td>19.9881</td></tr>\n",
       "</tbody>\n",
       "</table>\n"
      ],
      "text/latex": [
       "\\begin{tabular}{r|llll}\n",
       " pm25tmean2 & pm10tmean2 & o3tmean2 & no2tmean2\\\\\n",
       "\\hline\n",
       "\t NA      & 34      & 4.25    & 19.9881\\\\\n",
       "\\end{tabular}\n"
      ],
      "text/markdown": [
       "\n",
       "pm25tmean2 | pm10tmean2 | o3tmean2 | no2tmean2 | \n",
       "|---|\n",
       "| NA      | 34      | 4.25    | 19.9881 | \n",
       "\n",
       "\n"
      ],
      "text/plain": [
       "  pm25tmean2 pm10tmean2 o3tmean2 no2tmean2\n",
       "1 NA         34         4.25     19.9881  "
      ]
     },
     "metadata": {},
     "output_type": "display_data"
    }
   ],
   "source": [
    "s <- select(chicago, -(city:date))\n",
    "head(s,1)"
   ]
  },
  {
   "cell_type": "code",
   "execution_count": 22,
   "metadata": {},
   "outputs": [
    {
     "name": "stdout",
     "output_type": "stream",
     "text": [
      "'data.frame':\t6940 obs. of  4 variables:\n",
      " $ pm25tmean2: num  NA NA NA NA NA NA NA NA NA NA ...\n",
      " $ pm10tmean2: num  34 NA 34.2 47 NA ...\n",
      " $ o3tmean2  : num  4.25 3.3 3.33 4.38 4.75 ...\n",
      " $ no2tmean2 : num  20 23.2 23.8 30.4 30.3 ...\n"
     ]
    }
   ],
   "source": [
    "subset <- select(chicago, ends_with(\"2\"))\n",
    "str(subset)"
   ]
  },
  {
   "cell_type": "code",
   "execution_count": 25,
   "metadata": {},
   "outputs": [
    {
     "data": {
      "text/html": [
       "<ol class=list-inline>\n",
       "\t<li>381</li>\n",
       "\t<li>8</li>\n",
       "</ol>\n"
      ],
      "text/latex": [
       "\\begin{enumerate*}\n",
       "\\item 381\n",
       "\\item 8\n",
       "\\end{enumerate*}\n"
      ],
      "text/markdown": [
       "1. 381\n",
       "2. 8\n",
       "\n",
       "\n"
      ],
      "text/plain": [
       "[1] 381   8"
      ]
     },
     "metadata": {},
     "output_type": "display_data"
    }
   ],
   "source": [
    "chic.f <- filter(chicago, pm25tmean2 > 25)\n",
    "dim(chic.f)"
   ]
  },
  {
   "cell_type": "code",
   "execution_count": 26,
   "metadata": {},
   "outputs": [
    {
     "data": {
      "text/html": [
       "<ol class=list-inline>\n",
       "\t<li>17</li>\n",
       "\t<li>8</li>\n",
       "</ol>\n"
      ],
      "text/latex": [
       "\\begin{enumerate*}\n",
       "\\item 17\n",
       "\\item 8\n",
       "\\end{enumerate*}\n"
      ],
      "text/markdown": [
       "1. 17\n",
       "2. 8\n",
       "\n",
       "\n"
      ],
      "text/plain": [
       "[1] 17  8"
      ]
     },
     "metadata": {},
     "output_type": "display_data"
    }
   ],
   "source": [
    "chic <- filter(chicago, pm25tmean2 > 30 & tmpd > 80)\n",
    "dim(chic)"
   ]
  },
  {
   "cell_type": "code",
   "execution_count": 27,
   "metadata": {
    "collapsed": true
   },
   "outputs": [],
   "source": [
    "ar <- arrange(chicago, date)"
   ]
  },
  {
   "cell_type": "code",
   "execution_count": 28,
   "metadata": {},
   "outputs": [
    {
     "data": {
      "text/html": [
       "<table>\n",
       "<thead><tr><th scope=col>city</th><th scope=col>tmpd</th><th scope=col>dptp</th><th scope=col>date</th><th scope=col>pm25tmean2</th><th scope=col>pm10tmean2</th><th scope=col>o3tmean2</th><th scope=col>no2tmean2</th></tr></thead>\n",
       "<tbody>\n",
       "\t<tr><td>chic      </td><td>31.5      </td><td>31.5      </td><td>1987-01-01</td><td>NA        </td><td>34        </td><td>4.25      </td><td>19.9881   </td></tr>\n",
       "</tbody>\n",
       "</table>\n"
      ],
      "text/latex": [
       "\\begin{tabular}{r|llllllll}\n",
       " city & tmpd & dptp & date & pm25tmean2 & pm10tmean2 & o3tmean2 & no2tmean2\\\\\n",
       "\\hline\n",
       "\t chic       & 31.5       & 31.5       & 1987-01-01 & NA         & 34         & 4.25       & 19.9881   \\\\\n",
       "\\end{tabular}\n"
      ],
      "text/markdown": [
       "\n",
       "city | tmpd | dptp | date | pm25tmean2 | pm10tmean2 | o3tmean2 | no2tmean2 | \n",
       "|---|\n",
       "| chic       | 31.5       | 31.5       | 1987-01-01 | NA         | 34         | 4.25       | 19.9881    | \n",
       "\n",
       "\n"
      ],
      "text/plain": [
       "  city tmpd dptp date       pm25tmean2 pm10tmean2 o3tmean2 no2tmean2\n",
       "1 chic 31.5 31.5 1987-01-01 NA         34         4.25     19.9881  "
      ]
     },
     "metadata": {},
     "output_type": "display_data"
    }
   ],
   "source": [
    "head(ar,1)"
   ]
  },
  {
   "cell_type": "code",
   "execution_count": 29,
   "metadata": {
    "collapsed": true
   },
   "outputs": [],
   "source": [
    "chicago <- rename(chicago, dewpoint = dptp, pm25 = pm25tmean2)"
   ]
  },
  {
   "cell_type": "code",
   "execution_count": 30,
   "metadata": {},
   "outputs": [
    {
     "data": {
      "text/html": [
       "<table>\n",
       "<thead><tr><th scope=col>city</th><th scope=col>tmpd</th><th scope=col>dewpoint</th><th scope=col>date</th><th scope=col>pm25</th><th scope=col>pm10tmean2</th><th scope=col>o3tmean2</th><th scope=col>no2tmean2</th></tr></thead>\n",
       "<tbody>\n",
       "\t<tr><td>chic      </td><td>31.5      </td><td>31.500    </td><td>1987-01-01</td><td>NA        </td><td>34        </td><td>4.250000  </td><td>19.98810  </td></tr>\n",
       "\t<tr><td>chic      </td><td>33.0      </td><td>29.875    </td><td>1987-01-02</td><td>NA        </td><td>NA        </td><td>3.304348  </td><td>23.19099  </td></tr>\n",
       "</tbody>\n",
       "</table>\n"
      ],
      "text/latex": [
       "\\begin{tabular}{r|llllllll}\n",
       " city & tmpd & dewpoint & date & pm25 & pm10tmean2 & o3tmean2 & no2tmean2\\\\\n",
       "\\hline\n",
       "\t chic       & 31.5       & 31.500     & 1987-01-01 & NA         & 34         & 4.250000   & 19.98810  \\\\\n",
       "\t chic       & 33.0       & 29.875     & 1987-01-02 & NA         & NA         & 3.304348   & 23.19099  \\\\\n",
       "\\end{tabular}\n"
      ],
      "text/markdown": [
       "\n",
       "city | tmpd | dewpoint | date | pm25 | pm10tmean2 | o3tmean2 | no2tmean2 | \n",
       "|---|---|\n",
       "| chic       | 31.5       | 31.500     | 1987-01-01 | NA         | 34         | 4.250000   | 19.98810   | \n",
       "| chic       | 33.0       | 29.875     | 1987-01-02 | NA         | NA         | 3.304348   | 23.19099   | \n",
       "\n",
       "\n"
      ],
      "text/plain": [
       "  city tmpd dewpoint date       pm25 pm10tmean2 o3tmean2 no2tmean2\n",
       "1 chic 31.5 31.500   1987-01-01 NA   34         4.250000 19.98810 \n",
       "2 chic 33.0 29.875   1987-01-02 NA   NA         3.304348 23.19099 "
      ]
     },
     "metadata": {},
     "output_type": "display_data"
    }
   ],
   "source": [
    "head(chicago,2)"
   ]
  },
  {
   "cell_type": "code",
   "execution_count": 31,
   "metadata": {},
   "outputs": [
    {
     "data": {
      "text/html": [
       "<table>\n",
       "<thead><tr><th scope=col>city</th><th scope=col>tmpd</th><th scope=col>dewpoint</th><th scope=col>date</th><th scope=col>pm25</th><th scope=col>pm10tmean2</th><th scope=col>o3tmean2</th><th scope=col>no2tmean2</th><th scope=col>pm25detrend</th></tr></thead>\n",
       "<tbody>\n",
       "\t<tr><td>chic      </td><td>31.5      </td><td>31.500    </td><td>1987-01-01</td><td>NA        </td><td>34        </td><td>4.250000  </td><td>19.98810  </td><td>NA        </td></tr>\n",
       "\t<tr><td>chic      </td><td>33.0      </td><td>29.875    </td><td>1987-01-02</td><td>NA        </td><td>NA        </td><td>3.304348  </td><td>23.19099  </td><td>NA        </td></tr>\n",
       "</tbody>\n",
       "</table>\n"
      ],
      "text/latex": [
       "\\begin{tabular}{r|lllllllll}\n",
       " city & tmpd & dewpoint & date & pm25 & pm10tmean2 & o3tmean2 & no2tmean2 & pm25detrend\\\\\n",
       "\\hline\n",
       "\t chic       & 31.5       & 31.500     & 1987-01-01 & NA         & 34         & 4.250000   & 19.98810   & NA        \\\\\n",
       "\t chic       & 33.0       & 29.875     & 1987-01-02 & NA         & NA         & 3.304348   & 23.19099   & NA        \\\\\n",
       "\\end{tabular}\n"
      ],
      "text/markdown": [
       "\n",
       "city | tmpd | dewpoint | date | pm25 | pm10tmean2 | o3tmean2 | no2tmean2 | pm25detrend | \n",
       "|---|---|\n",
       "| chic       | 31.5       | 31.500     | 1987-01-01 | NA         | 34         | 4.250000   | 19.98810   | NA         | \n",
       "| chic       | 33.0       | 29.875     | 1987-01-02 | NA         | NA         | 3.304348   | 23.19099   | NA         | \n",
       "\n",
       "\n"
      ],
      "text/plain": [
       "  city tmpd dewpoint date       pm25 pm10tmean2 o3tmean2 no2tmean2 pm25detrend\n",
       "1 chic 31.5 31.500   1987-01-01 NA   34         4.250000 19.98810  NA         \n",
       "2 chic 33.0 29.875   1987-01-02 NA   NA         3.304348 23.19099  NA         "
      ]
     },
     "metadata": {},
     "output_type": "display_data"
    }
   ],
   "source": [
    "chicago <- mutate(chicago, pm25detrend = pm25 - mean(pm25, na.rm = TRUE))\n",
    "head(chicago,2)"
   ]
  },
  {
   "cell_type": "code",
   "execution_count": 33,
   "metadata": {},
   "outputs": [],
   "source": [
    "chicago <- mutate(chicago, year = as.POSIXlt(date)$year + 1900)"
   ]
  },
  {
   "cell_type": "code",
   "execution_count": 35,
   "metadata": {},
   "outputs": [
    {
     "data": {
      "text/html": [
       "<table>\n",
       "<thead><tr><th scope=col>city</th><th scope=col>tmpd</th><th scope=col>dewpoint</th><th scope=col>date</th><th scope=col>pm25</th><th scope=col>pm10tmean2</th><th scope=col>o3tmean2</th><th scope=col>no2tmean2</th><th scope=col>pm25detrend</th><th scope=col>year</th></tr></thead>\n",
       "<tbody>\n",
       "\t<tr><td>chic      </td><td>31.5      </td><td>31.500    </td><td>1987-01-01</td><td>NA        </td><td>34        </td><td>4.250000  </td><td>19.98810  </td><td>NA        </td><td>1987      </td></tr>\n",
       "\t<tr><td>chic      </td><td>33.0      </td><td>29.875    </td><td>1987-01-02</td><td>NA        </td><td>NA        </td><td>3.304348  </td><td>23.19099  </td><td>NA        </td><td>1987      </td></tr>\n",
       "</tbody>\n",
       "</table>\n"
      ],
      "text/latex": [
       "\\begin{tabular}{r|llllllllll}\n",
       " city & tmpd & dewpoint & date & pm25 & pm10tmean2 & o3tmean2 & no2tmean2 & pm25detrend & year\\\\\n",
       "\\hline\n",
       "\t chic       & 31.5       & 31.500     & 1987-01-01 & NA         & 34         & 4.250000   & 19.98810   & NA         & 1987      \\\\\n",
       "\t chic       & 33.0       & 29.875     & 1987-01-02 & NA         & NA         & 3.304348   & 23.19099   & NA         & 1987      \\\\\n",
       "\\end{tabular}\n"
      ],
      "text/markdown": [
       "\n",
       "city | tmpd | dewpoint | date | pm25 | pm10tmean2 | o3tmean2 | no2tmean2 | pm25detrend | year | \n",
       "|---|---|\n",
       "| chic       | 31.5       | 31.500     | 1987-01-01 | NA         | 34         | 4.250000   | 19.98810   | NA         | 1987       | \n",
       "| chic       | 33.0       | 29.875     | 1987-01-02 | NA         | NA         | 3.304348   | 23.19099   | NA         | 1987       | \n",
       "\n",
       "\n"
      ],
      "text/plain": [
       "  city tmpd dewpoint date       pm25 pm10tmean2 o3tmean2 no2tmean2 pm25detrend\n",
       "1 chic 31.5 31.500   1987-01-01 NA   34         4.250000 19.98810  NA         \n",
       "2 chic 33.0 29.875   1987-01-02 NA   NA         3.304348 23.19099  NA         \n",
       "  year\n",
       "1 1987\n",
       "2 1987"
      ]
     },
     "metadata": {},
     "output_type": "display_data"
    },
    {
     "name": "stdout",
     "output_type": "stream",
     "text": [
      "Classes ‘grouped_df’, ‘tbl_df’, ‘tbl’ and 'data.frame':\t6940 obs. of  10 variables:\n",
      " $ city       : chr  \"chic\" \"chic\" \"chic\" \"chic\" ...\n",
      " $ tmpd       : num  31.5 33 33 29 32 40 34.5 29 26.5 32.5 ...\n",
      " $ dewpoint   : num  31.5 29.9 27.4 28.6 28.9 ...\n",
      " $ date       : Date, format: \"1987-01-01\" \"1987-01-02\" ...\n",
      " $ pm25       : num  NA NA NA NA NA NA NA NA NA NA ...\n",
      " $ pm10tmean2 : num  34 NA 34.2 47 NA ...\n",
      " $ o3tmean2   : num  4.25 3.3 3.33 4.38 4.75 ...\n",
      " $ no2tmean2  : num  20 23.2 23.8 30.4 30.3 ...\n",
      " $ pm25detrend: num  NA NA NA NA NA NA NA NA NA NA ...\n",
      " $ year       : num  1987 1987 1987 1987 1987 ...\n",
      " - attr(*, \"vars\")= chr \"year\"\n",
      " - attr(*, \"drop\")= logi TRUE\n",
      " - attr(*, \"indices\")=List of 19\n",
      "  ..$ : int  0 1 2 3 4 5 6 7 8 9 ...\n",
      "  ..$ : int  365 366 367 368 369 370 371 372 373 374 ...\n",
      "  ..$ : int  731 732 733 734 735 736 737 738 739 740 ...\n",
      "  ..$ : int  1096 1097 1098 1099 1100 1101 1102 1103 1104 1105 ...\n",
      "  ..$ : int  1461 1462 1463 1464 1465 1466 1467 1468 1469 1470 ...\n",
      "  ..$ : int  1826 1827 1828 1829 1830 1831 1832 1833 1834 1835 ...\n",
      "  ..$ : int  2192 2193 2194 2195 2196 2197 2198 2199 2200 2201 ...\n",
      "  ..$ : int  2557 2558 2559 2560 2561 2562 2563 2564 2565 2566 ...\n",
      "  ..$ : int  2922 2923 2924 2925 2926 2927 2928 2929 2930 2931 ...\n",
      "  ..$ : int  3287 3288 3289 3290 3291 3292 3293 3294 3295 3296 ...\n",
      "  ..$ : int  3653 3654 3655 3656 3657 3658 3659 3660 3661 3662 ...\n",
      "  ..$ : int  4018 4019 4020 4021 4022 4023 4024 4025 4026 4027 ...\n",
      "  ..$ : int  4383 4384 4385 4386 4387 4388 4389 4390 4391 4392 ...\n",
      "  ..$ : int  4748 4749 4750 4751 4752 4753 4754 4755 4756 4757 ...\n",
      "  ..$ : int  5114 5115 5116 5117 5118 5119 5120 5121 5122 5123 ...\n",
      "  ..$ : int  5479 5480 5481 5482 5483 5484 5485 5486 5487 5488 ...\n",
      "  ..$ : int  5844 5845 5846 5847 5848 5849 5850 5851 5852 5853 ...\n",
      "  ..$ : int  6209 6210 6211 6212 6213 6214 6215 6216 6217 6218 ...\n",
      "  ..$ : int  6575 6576 6577 6578 6579 6580 6581 6582 6583 6584 ...\n",
      " - attr(*, \"group_sizes\")= int  365 366 365 365 365 366 365 365 365 366 ...\n",
      " - attr(*, \"biggest_group_size\")= int 366\n",
      " - attr(*, \"labels\")='data.frame':\t19 obs. of  1 variable:\n",
      "  ..$ year: num  1987 1988 1989 1990 1991 ...\n",
      "  ..- attr(*, \"vars\")= chr \"year\"\n",
      "  ..- attr(*, \"drop\")= logi TRUE\n"
     ]
    }
   ],
   "source": [
    "years <- group_by(chicago, year)\n",
    "head(years,2)\n",
    "str(years)"
   ]
  },
  {
   "cell_type": "code",
   "execution_count": 37,
   "metadata": {},
   "outputs": [
    {
     "data": {
      "text/html": [
       "<table>\n",
       "<thead><tr><th scope=col>year</th><th scope=col>pm25</th><th scope=col>o3</th><th scope=col>no2</th></tr></thead>\n",
       "<tbody>\n",
       "\t<tr><td>1987    </td><td>     NaN</td><td>62.96966</td><td>23.49369</td></tr>\n",
       "\t<tr><td>1988    </td><td>     NaN</td><td>61.67708</td><td>24.52296</td></tr>\n",
       "\t<tr><td>1989    </td><td>     NaN</td><td>59.72727</td><td>26.14062</td></tr>\n",
       "\t<tr><td>1990    </td><td>     NaN</td><td>52.22917</td><td>22.59583</td></tr>\n",
       "\t<tr><td>1991    </td><td>     NaN</td><td>63.10417</td><td>21.38194</td></tr>\n",
       "\t<tr><td>1992    </td><td>     NaN</td><td>50.82870</td><td>24.78921</td></tr>\n",
       "\t<tr><td>1993    </td><td>     NaN</td><td>44.30093</td><td>25.76993</td></tr>\n",
       "\t<tr><td>1994    </td><td>     NaN</td><td>52.17844</td><td>28.47500</td></tr>\n",
       "\t<tr><td>1995    </td><td>     NaN</td><td>66.58750</td><td>27.26042</td></tr>\n",
       "\t<tr><td>1996    </td><td>     NaN</td><td>58.39583</td><td>26.38715</td></tr>\n",
       "\t<tr><td>1997    </td><td>     NaN</td><td>56.54167</td><td>25.48143</td></tr>\n",
       "\t<tr><td>1998    </td><td>18.26467</td><td>50.66250</td><td>24.58649</td></tr>\n",
       "\t<tr><td>1999    </td><td>18.49646</td><td>57.48864</td><td>24.66667</td></tr>\n",
       "\t<tr><td>2000    </td><td>16.93806</td><td>55.76103</td><td>23.46082</td></tr>\n",
       "\t<tr><td>2001    </td><td>16.92632</td><td>51.81984</td><td>25.06522</td></tr>\n",
       "\t<tr><td>2002    </td><td>15.27335</td><td>54.88043</td><td>22.73750</td></tr>\n",
       "\t<tr><td>2003    </td><td>15.23183</td><td>56.16608</td><td>24.62500</td></tr>\n",
       "\t<tr><td>2004    </td><td>14.62864</td><td>44.48240</td><td>23.39130</td></tr>\n",
       "\t<tr><td>2005    </td><td>16.18556</td><td>58.84126</td><td>22.62387</td></tr>\n",
       "</tbody>\n",
       "</table>\n"
      ],
      "text/latex": [
       "\\begin{tabular}{r|llll}\n",
       " year & pm25 & o3 & no2\\\\\n",
       "\\hline\n",
       "\t 1987     &      NaN & 62.96966 & 23.49369\\\\\n",
       "\t 1988     &      NaN & 61.67708 & 24.52296\\\\\n",
       "\t 1989     &      NaN & 59.72727 & 26.14062\\\\\n",
       "\t 1990     &      NaN & 52.22917 & 22.59583\\\\\n",
       "\t 1991     &      NaN & 63.10417 & 21.38194\\\\\n",
       "\t 1992     &      NaN & 50.82870 & 24.78921\\\\\n",
       "\t 1993     &      NaN & 44.30093 & 25.76993\\\\\n",
       "\t 1994     &      NaN & 52.17844 & 28.47500\\\\\n",
       "\t 1995     &      NaN & 66.58750 & 27.26042\\\\\n",
       "\t 1996     &      NaN & 58.39583 & 26.38715\\\\\n",
       "\t 1997     &      NaN & 56.54167 & 25.48143\\\\\n",
       "\t 1998     & 18.26467 & 50.66250 & 24.58649\\\\\n",
       "\t 1999     & 18.49646 & 57.48864 & 24.66667\\\\\n",
       "\t 2000     & 16.93806 & 55.76103 & 23.46082\\\\\n",
       "\t 2001     & 16.92632 & 51.81984 & 25.06522\\\\\n",
       "\t 2002     & 15.27335 & 54.88043 & 22.73750\\\\\n",
       "\t 2003     & 15.23183 & 56.16608 & 24.62500\\\\\n",
       "\t 2004     & 14.62864 & 44.48240 & 23.39130\\\\\n",
       "\t 2005     & 16.18556 & 58.84126 & 22.62387\\\\\n",
       "\\end{tabular}\n"
      ],
      "text/markdown": [
       "\n",
       "year | pm25 | o3 | no2 | \n",
       "|---|---|---|---|---|---|---|---|---|---|---|---|---|---|---|---|---|---|---|\n",
       "| 1987     |      NaN | 62.96966 | 23.49369 | \n",
       "| 1988     |      NaN | 61.67708 | 24.52296 | \n",
       "| 1989     |      NaN | 59.72727 | 26.14062 | \n",
       "| 1990     |      NaN | 52.22917 | 22.59583 | \n",
       "| 1991     |      NaN | 63.10417 | 21.38194 | \n",
       "| 1992     |      NaN | 50.82870 | 24.78921 | \n",
       "| 1993     |      NaN | 44.30093 | 25.76993 | \n",
       "| 1994     |      NaN | 52.17844 | 28.47500 | \n",
       "| 1995     |      NaN | 66.58750 | 27.26042 | \n",
       "| 1996     |      NaN | 58.39583 | 26.38715 | \n",
       "| 1997     |      NaN | 56.54167 | 25.48143 | \n",
       "| 1998     | 18.26467 | 50.66250 | 24.58649 | \n",
       "| 1999     | 18.49646 | 57.48864 | 24.66667 | \n",
       "| 2000     | 16.93806 | 55.76103 | 23.46082 | \n",
       "| 2001     | 16.92632 | 51.81984 | 25.06522 | \n",
       "| 2002     | 15.27335 | 54.88043 | 22.73750 | \n",
       "| 2003     | 15.23183 | 56.16608 | 24.62500 | \n",
       "| 2004     | 14.62864 | 44.48240 | 23.39130 | \n",
       "| 2005     | 16.18556 | 58.84126 | 22.62387 | \n",
       "\n",
       "\n"
      ],
      "text/plain": [
       "   year pm25     o3       no2     \n",
       "1  1987      NaN 62.96966 23.49369\n",
       "2  1988      NaN 61.67708 24.52296\n",
       "3  1989      NaN 59.72727 26.14062\n",
       "4  1990      NaN 52.22917 22.59583\n",
       "5  1991      NaN 63.10417 21.38194\n",
       "6  1992      NaN 50.82870 24.78921\n",
       "7  1993      NaN 44.30093 25.76993\n",
       "8  1994      NaN 52.17844 28.47500\n",
       "9  1995      NaN 66.58750 27.26042\n",
       "10 1996      NaN 58.39583 26.38715\n",
       "11 1997      NaN 56.54167 25.48143\n",
       "12 1998 18.26467 50.66250 24.58649\n",
       "13 1999 18.49646 57.48864 24.66667\n",
       "14 2000 16.93806 55.76103 23.46082\n",
       "15 2001 16.92632 51.81984 25.06522\n",
       "16 2002 15.27335 54.88043 22.73750\n",
       "17 2003 15.23183 56.16608 24.62500\n",
       "18 2004 14.62864 44.48240 23.39130\n",
       "19 2005 16.18556 58.84126 22.62387"
      ]
     },
     "metadata": {},
     "output_type": "display_data"
    }
   ],
   "source": [
    "summarize(years, pm25 = mean(pm25, na.rm = TRUE),o3 = max(o3tmean2, na.rm = TRUE),no2 = median(no2tmean2, na.rm = TRUE))"
   ]
  },
  {
   "cell_type": "code",
   "execution_count": 38,
   "metadata": {},
   "outputs": [
    {
     "data": {
      "text/html": [
       "'data.frame'"
      ],
      "text/latex": [
       "'data.frame'"
      ],
      "text/markdown": [
       "'data.frame'"
      ],
      "text/plain": [
       "[1] \"data.frame\""
      ]
     },
     "metadata": {},
     "output_type": "display_data"
    }
   ],
   "source": [
    "class(x)"
   ]
  },
  {
   "cell_type": "code",
   "execution_count": 39,
   "metadata": {},
   "outputs": [
    {
     "data": {
      "image/png": "[encoded data removed]",
      "text/plain": [
       "plot without title"
      ]
     },
     "metadata": {},
     "output_type": "display_data"
    }
   ],
   "source": [
    "set.seed(19)\n",
    "x <- rnorm(30)\n",
    "y <- rnorm(30)\n",
    "plot(x, y, col = rep(1:3, each = 10), pch = 19)\n",
    "legend(\"bottomright\", legend = paste(\"Group\", 1:3), col = 1:3, pch = 19, bty = \"n\")"
   ]
  },
  {
   "cell_type": "code",
   "execution_count": null,
   "metadata": {
    "collapsed": true
   },
   "outputs": [],
   "source": []
  }
 ],
 "metadata": {
  "kernelspec": {
   "display_name": "R",
   "language": "R",
   "name": "ir"
  },
  "language_info": {
   "codemirror_mode": "r",
   "file_extension": ".r",
   "mimetype": "text/x-r-source",
   "name": "R",
   "pygments_lexer": "r",
   "version": "3.5.1"
  }
 },
 "nbformat": 4,
 "nbformat_minor": 2
}
